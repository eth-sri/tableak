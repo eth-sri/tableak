{
 "cells": [
  {
   "cell_type": "markdown",
   "id": "243bb329-8267-47fd-9091-824696fdf6af",
   "metadata": {},
   "source": [
    "# FedAVG"
   ]
  },
  {
   "cell_type": "code",
   "execution_count": null,
   "id": "f49fddca-0b70-4c4c-b680-ab83bb459952",
   "metadata": {
    "tags": []
   },
   "outputs": [],
   "source": [
    "import torch\n",
    "import utils\n",
    "from models import FullyConnected\n",
    "import attacks\n",
    "from utils import get_acc_and_bac\n",
    "from datasets import ADULT, Lawschool\n",
    "import numpy as np\n",
    "import copy\n",
    "from attacks.fed_avg_inversion_attack import train_and_attack_fed_avg\n",
    "from utils import match_reconstruction_ground_truth\n",
    "import os.path as osp\n",
    "import matplotlib.pyplot as plt\n",
    "import pandas as pd"
   ]
  },
  {
   "cell_type": "code",
   "execution_count": null,
   "id": "197525fa-483f-4151-89c4-1564a977f88f",
   "metadata": {
    "tags": []
   },
   "outputs": [],
   "source": [
    "experiments = {\n",
    "    0: 'Inverting Gradients',\n",
    "    52: 'TabLeak'\n",
    "}\n",
    "\n",
    "dataset_names = ['ADULT', 'German', 'HealthHeritage', 'Lawschool']  # set to include only the datasets on which you have already obtained the data\n",
    "\n",
    "possible_num_epochs = np.array([1, 5, 10])\n",
    "possible_num_batches = np.array([1, 2, 4])\n",
    "possible_params = np.array([0.0, 0.5, 0.1, 0.05, 0.01, 0.005, 0.001])\n",
    "\n",
    "\n",
    "dataframes_datasets = {}\n",
    "\n",
    "for dataset_name in dataset_names:\n",
    "    \n",
    "    dataframes_experiments = {}\n",
    "    \n",
    "    for k, (experiment_num, experiment_name) in enumerate(experiments.items()):\n",
    "        path = f'experiment_data/fedavg_experiments/{dataset_name}/experiment_{experiment_num}/inversion_data_all_{experiment_num}_{dataset_name}_50_{list(possible_params)}_0.319_42.npy'\n",
    "        if osp.isfile(path):\n",
    "            data = np.load(path)\n",
    "        else:\n",
    "            continue\n",
    "        \n",
    "        one_epoch = []\n",
    "        five_epochs = []\n",
    "        ten_epochs = []\n",
    "        for j, n_batches in enumerate(possible_num_batches):\n",
    "            index_of_best_param = np.argmin(data[:, j, :, 0, 0], axis=-1)\n",
    "            best_mean = 100 - 100*data[np.arange(len(index_of_best_param)), j, index_of_best_param, 0, 0]\n",
    "            best_std = 100*data[np.arange(len(index_of_best_param)), j, index_of_best_param, 0, 1]\n",
    "            best_param = possible_params[index_of_best_param]\n",
    "            data_summary = [(np.around(mean, 2), np.around(std, 2), param) for mean, std, param in zip(best_mean, best_std, best_param)]\n",
    "            one_epoch.append((np.around(data_summary[0][0], 1), np.around(data_summary[0][1], 1)))\n",
    "            five_epochs.append((np.around(data_summary[1][0], 1), np.around(data_summary[1][1], 1)))\n",
    "            ten_epochs.append((np.around(data_summary[2][0], 1), np.around(data_summary[2][1], 1)))\n",
    "        \n",
    "        df = pd.DataFrame({'N. Batches': [1, 2, 4], '1 Epoch': one_epoch, '5 Epochs': five_epochs, '10 Epochs': ten_epochs})\n",
    "        dataframes_experiments[experiment_name] = df\n",
    "    dataframes_datasets[dataset_name] = dataframes_experiments"
   ]
  },
  {
   "cell_type": "markdown",
   "id": "da452516-e452-4be2-a50b-ccbdd4af297d",
   "metadata": {},
   "source": [
    "## Adult"
   ]
  },
  {
   "cell_type": "markdown",
   "id": "d57484b1-e19b-43e3-9f24-7d79f9458195",
   "metadata": {},
   "source": [
    "### TabLeak"
   ]
  },
  {
   "cell_type": "code",
   "execution_count": null,
   "id": "cb86ee89-7bb1-4306-af4d-9681a2c5e05a",
   "metadata": {
    "tags": []
   },
   "outputs": [],
   "source": [
    "dataframes_datasets['ADULT']['TabLeak']"
   ]
  },
  {
   "cell_type": "markdown",
   "id": "b7cdc8a5-e866-49f0-98a2-623a3c0d2ffe",
   "metadata": {},
   "source": [
    "### Inverting Gradients"
   ]
  },
  {
   "cell_type": "code",
   "execution_count": null,
   "id": "af0e078a-7133-4d7b-9277-d335cf3bca1d",
   "metadata": {
    "tags": []
   },
   "outputs": [],
   "source": [
    "dataframes_datasets['ADULT']['Inverting Gradients']"
   ]
  },
  {
   "cell_type": "markdown",
   "id": "1a9ef598-ee45-48a3-bf4d-91db3608a042",
   "metadata": {},
   "source": [
    "## German"
   ]
  },
  {
   "cell_type": "markdown",
   "id": "018913f1-082c-4d58-9d4e-0abe598ef7de",
   "metadata": {},
   "source": [
    "### TabLeak"
   ]
  },
  {
   "cell_type": "code",
   "execution_count": null,
   "id": "c4e17bdf-7b46-4565-bfa2-ce44afa4c8f9",
   "metadata": {
    "tags": []
   },
   "outputs": [],
   "source": [
    "dataframes_datasets['German']['TabLeak']"
   ]
  },
  {
   "cell_type": "markdown",
   "id": "5c877e4c-2a64-4418-96f7-b43ad477a3d0",
   "metadata": {},
   "source": [
    "### Inverting Gradients"
   ]
  },
  {
   "cell_type": "code",
   "execution_count": null,
   "id": "bf5b1bc2-7e28-486a-b72f-2559badb7cb4",
   "metadata": {
    "tags": []
   },
   "outputs": [],
   "source": [
    "dataframes_datasets['German']['Inverting Gradients']"
   ]
  },
  {
   "cell_type": "markdown",
   "id": "3dd9c225-c535-425a-b6f5-f75c7b596afd",
   "metadata": {},
   "source": [
    "## Lawschool"
   ]
  },
  {
   "cell_type": "markdown",
   "id": "9f5a1571-d776-4a86-ab0d-c64b0c5cf2aa",
   "metadata": {},
   "source": [
    "### TabLeak"
   ]
  },
  {
   "cell_type": "code",
   "execution_count": null,
   "id": "16b8e06d-ecb0-4451-a305-4cc1279425ba",
   "metadata": {
    "tags": []
   },
   "outputs": [],
   "source": [
    "dataframes_datasets['Lawschool']['TabLeak']"
   ]
  },
  {
   "cell_type": "markdown",
   "id": "e181d901-93e2-40c4-aff8-35feb859e243",
   "metadata": {},
   "source": [
    "### Inverting Gradients"
   ]
  },
  {
   "cell_type": "code",
   "execution_count": null,
   "id": "ae91a758-3bad-4e08-a493-6d4b6b764d4e",
   "metadata": {
    "tags": []
   },
   "outputs": [],
   "source": [
    "dataframes_datasets['Lawschool']['Inverting Gradients']"
   ]
  },
  {
   "cell_type": "markdown",
   "id": "832512b4-531c-47f4-ac54-c6177e5bf13e",
   "metadata": {},
   "source": [
    "## Health Heritage"
   ]
  },
  {
   "cell_type": "markdown",
   "id": "18015c17-14fe-4a09-b6f5-2d2efd5ba0ae",
   "metadata": {},
   "source": [
    "### TabLeak"
   ]
  },
  {
   "cell_type": "code",
   "execution_count": null,
   "id": "96ce3548-0335-4a48-bd30-6c828cc55d49",
   "metadata": {
    "tags": []
   },
   "outputs": [],
   "source": [
    "dataframes_datasets['HealthHeritage']['TabLeak']"
   ]
  },
  {
   "cell_type": "markdown",
   "id": "1eb33a1d-c6d3-4a13-87a0-01d3b2870535",
   "metadata": {},
   "source": [
    "### Inverting Gradients"
   ]
  },
  {
   "cell_type": "code",
   "execution_count": null,
   "id": "fb62c6ab-17be-452e-9095-c379510c8ca2",
   "metadata": {
    "tags": []
   },
   "outputs": [],
   "source": [
    "dataframes_datasets['HealthHeritage']['Inverting Gradients']"
   ]
  },
  {
   "cell_type": "code",
   "execution_count": null,
   "id": "354314c9-8c86-4743-a598-08100d08772d",
   "metadata": {},
   "outputs": [],
   "source": []
  }
 ],
 "metadata": {
  "kernelspec": {
   "display_name": "Python 3 (ipykernel)",
   "language": "python",
   "name": "python3"
  },
  "language_info": {
   "codemirror_mode": {
    "name": "ipython",
    "version": 3
   },
   "file_extension": ".py",
   "mimetype": "text/x-python",
   "name": "python",
   "nbconvert_exporter": "python",
   "pygments_lexer": "ipython3",
   "version": "3.8.17"
  }
 },
 "nbformat": 4,
 "nbformat_minor": 5
}
