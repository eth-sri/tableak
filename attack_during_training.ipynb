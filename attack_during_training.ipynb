{
 "cells": [
  {
   "cell_type": "markdown",
   "id": "b5edd280-b842-4ca2-8405-530a59d86dfe",
   "metadata": {},
   "source": [
    "# Display the accuracy data for attacking over training iterations"
   ]
  },
  {
   "cell_type": "code",
   "execution_count": 1,
   "id": "d617f0bb-2702-4e1e-a2ba-863d2d287f3a",
   "metadata": {},
   "outputs": [],
   "source": [
    "import numpy as np\n",
    "import pandas as pd"
   ]
  },
  {
   "cell_type": "code",
   "execution_count": 2,
   "id": "e78496d6-d3ed-47b0-8fd5-ae7f42021bea",
   "metadata": {},
   "outputs": [],
   "source": [
    "dataset_names = ['ADULT', 'German', 'Lawschool', 'HealthHeritage']  # set to include only the datasets on which you have already obtained the data\n",
    "training_iterations = 15\n",
    "record_at = [0, 4, 9, 14]"
   ]
  },
  {
   "cell_type": "code",
   "execution_count": 5,
   "id": "2824a0f3-15a0-4a3f-8f93-fb9e41b70761",
   "metadata": {
    "tags": []
   },
   "outputs": [],
   "source": [
    "dataframes = {}\n",
    "\n",
    "for dataset_name in dataset_names:\n",
    "    inverting_gradients_training = np.load(f'experiment_data/attack_during_training/{dataset_name}/experiment_20/inversion_data_all_20_{dataset_name}_50_0.319_42.npy')\n",
    "    tableak_training = np.load(f'experiment_data/attack_during_training/{dataset_name}/experiment_52/inversion_data_all_52_{dataset_name}_50_0.319_42.npy')\n",
    "    \n",
    "    inverting_gradients_acc = []\n",
    "    inverting_gradients_std = []\n",
    "    tableak_acc = []\n",
    "    tableak_std = []\n",
    "    for ti in range(training_iterations):\n",
    "        if ti in record_at:  \n",
    "            inverting_gradients_acc.append(np.around(100*(1-inverting_gradients_training[ti, 0, 0]), 1))\n",
    "            inverting_gradients_std.append(np.around(100*(inverting_gradients_training[ti, 0, 1]), 1))\n",
    "            tableak_acc.append(np.around(100*(1-tableak_training[ti, 0, 0]), 1))\n",
    "            tableak_std.append(np.around(100*(tableak_training[ti, 0, 1]), 1))\n",
    "    \n",
    "    df = pd.DataFrame({'Training Epochs': 1 + np.array(record_at), 'TabLeak Acc.': tableak_acc, 'TabLeak Std.': tableak_std, \n",
    "                       'Inverting Gradients Acc.': inverting_gradients_acc, 'Inverting Gradients Std.': inverting_gradients_std})\n",
    "    dataframes[dataset_name] = df"
   ]
  },
  {
   "cell_type": "markdown",
   "id": "44dae3d8-b30f-4484-82e9-5b56a09288af",
   "metadata": {},
   "source": [
    "## Adult"
   ]
  },
  {
   "cell_type": "code",
   "execution_count": 6,
   "id": "95c77f66-5285-4f2f-aac0-13f379dc3dba",
   "metadata": {
    "tags": []
   },
   "outputs": [
    {
     "data": {
      "text/html": [
       "<div>\n",
       "<style scoped>\n",
       "    .dataframe tbody tr th:only-of-type {\n",
       "        vertical-align: middle;\n",
       "    }\n",
       "\n",
       "    .dataframe tbody tr th {\n",
       "        vertical-align: top;\n",
       "    }\n",
       "\n",
       "    .dataframe thead th {\n",
       "        text-align: right;\n",
       "    }\n",
       "</style>\n",
       "<table border=\"1\" class=\"dataframe\">\n",
       "  <thead>\n",
       "    <tr style=\"text-align: right;\">\n",
       "      <th></th>\n",
       "      <th>Training Epochs</th>\n",
       "      <th>TabLeak Acc.</th>\n",
       "      <th>TabLeak Std.</th>\n",
       "      <th>Inverting Gradients Acc.</th>\n",
       "      <th>Inverting Gradients Std.</th>\n",
       "    </tr>\n",
       "  </thead>\n",
       "  <tbody>\n",
       "    <tr>\n",
       "      <th>0</th>\n",
       "      <td>1</td>\n",
       "      <td>79.1</td>\n",
       "      <td>4.0</td>\n",
       "      <td>67.9</td>\n",
       "      <td>2.5</td>\n",
       "    </tr>\n",
       "    <tr>\n",
       "      <th>1</th>\n",
       "      <td>5</td>\n",
       "      <td>76.6</td>\n",
       "      <td>5.4</td>\n",
       "      <td>64.1</td>\n",
       "      <td>4.1</td>\n",
       "    </tr>\n",
       "    <tr>\n",
       "      <th>2</th>\n",
       "      <td>10</td>\n",
       "      <td>74.4</td>\n",
       "      <td>5.6</td>\n",
       "      <td>61.2</td>\n",
       "      <td>4.0</td>\n",
       "    </tr>\n",
       "    <tr>\n",
       "      <th>3</th>\n",
       "      <td>15</td>\n",
       "      <td>64.2</td>\n",
       "      <td>7.5</td>\n",
       "      <td>58.2</td>\n",
       "      <td>4.0</td>\n",
       "    </tr>\n",
       "  </tbody>\n",
       "</table>\n",
       "</div>"
      ],
      "text/plain": [
       "   Training Epochs  TabLeak Acc.  TabLeak Std.  Inverting Gradients Acc.  \\\n",
       "0                1          79.1           4.0                      67.9   \n",
       "1                5          76.6           5.4                      64.1   \n",
       "2               10          74.4           5.6                      61.2   \n",
       "3               15          64.2           7.5                      58.2   \n",
       "\n",
       "   Inverting Gradients Std.  \n",
       "0                       2.5  \n",
       "1                       4.1  \n",
       "2                       4.0  \n",
       "3                       4.0  "
      ]
     },
     "execution_count": 6,
     "metadata": {},
     "output_type": "execute_result"
    }
   ],
   "source": [
    "dataframes['ADULT']"
   ]
  },
  {
   "cell_type": "markdown",
   "id": "35c156fc-1ac5-45d0-8d5a-e064ff286411",
   "metadata": {
    "tags": []
   },
   "source": [
    "## German"
   ]
  },
  {
   "cell_type": "code",
   "execution_count": 5,
   "id": "47cfc548-4784-45a4-8ff1-1e369c242f5c",
   "metadata": {
    "tags": []
   },
   "outputs": [
    {
     "data": {
      "text/html": [
       "<div>\n",
       "<style scoped>\n",
       "    .dataframe tbody tr th:only-of-type {\n",
       "        vertical-align: middle;\n",
       "    }\n",
       "\n",
       "    .dataframe tbody tr th {\n",
       "        vertical-align: top;\n",
       "    }\n",
       "\n",
       "    .dataframe thead th {\n",
       "        text-align: right;\n",
       "    }\n",
       "</style>\n",
       "<table border=\"1\" class=\"dataframe\">\n",
       "  <thead>\n",
       "    <tr style=\"text-align: right;\">\n",
       "      <th></th>\n",
       "      <th>Training Epochs</th>\n",
       "      <th>TabLeak Acc.</th>\n",
       "      <th>TabLeak Std.</th>\n",
       "      <th>Inverting Gradients Acc.</th>\n",
       "      <th>Inverting Gradients Std.</th>\n",
       "    </tr>\n",
       "  </thead>\n",
       "  <tbody>\n",
       "    <tr>\n",
       "      <th>0</th>\n",
       "      <td>1</td>\n",
       "      <td>94.2</td>\n",
       "      <td>4.4</td>\n",
       "      <td>78.9</td>\n",
       "      <td>4.0</td>\n",
       "    </tr>\n",
       "    <tr>\n",
       "      <th>1</th>\n",
       "      <td>5</td>\n",
       "      <td>92.6</td>\n",
       "      <td>5.0</td>\n",
       "      <td>77.5</td>\n",
       "      <td>5.0</td>\n",
       "    </tr>\n",
       "    <tr>\n",
       "      <th>2</th>\n",
       "      <td>10</td>\n",
       "      <td>92.2</td>\n",
       "      <td>3.7</td>\n",
       "      <td>76.0</td>\n",
       "      <td>4.6</td>\n",
       "    </tr>\n",
       "    <tr>\n",
       "      <th>3</th>\n",
       "      <td>15</td>\n",
       "      <td>89.7</td>\n",
       "      <td>4.0</td>\n",
       "      <td>72.4</td>\n",
       "      <td>4.1</td>\n",
       "    </tr>\n",
       "  </tbody>\n",
       "</table>\n",
       "</div>"
      ],
      "text/plain": [
       "   Training Epochs  TabLeak Acc.  TabLeak Std.  Inverting Gradients Acc.  \\\n",
       "0                1          94.2           4.4                      78.9   \n",
       "1                5          92.6           5.0                      77.5   \n",
       "2               10          92.2           3.7                      76.0   \n",
       "3               15          89.7           4.0                      72.4   \n",
       "\n",
       "   Inverting Gradients Std.  \n",
       "0                       4.0  \n",
       "1                       5.0  \n",
       "2                       4.6  \n",
       "3                       4.1  "
      ]
     },
     "execution_count": 5,
     "metadata": {},
     "output_type": "execute_result"
    }
   ],
   "source": [
    "dataframes['German']"
   ]
  },
  {
   "cell_type": "markdown",
   "id": "5f31bbca-3a12-484c-a635-738bdc192942",
   "metadata": {},
   "source": [
    "## Lawschool"
   ]
  },
  {
   "cell_type": "code",
   "execution_count": 6,
   "id": "c1523d41-189c-45ef-9ddd-515a700d2b08",
   "metadata": {
    "tags": []
   },
   "outputs": [
    {
     "data": {
      "text/html": [
       "<div>\n",
       "<style scoped>\n",
       "    .dataframe tbody tr th:only-of-type {\n",
       "        vertical-align: middle;\n",
       "    }\n",
       "\n",
       "    .dataframe tbody tr th {\n",
       "        vertical-align: top;\n",
       "    }\n",
       "\n",
       "    .dataframe thead th {\n",
       "        text-align: right;\n",
       "    }\n",
       "</style>\n",
       "<table border=\"1\" class=\"dataframe\">\n",
       "  <thead>\n",
       "    <tr style=\"text-align: right;\">\n",
       "      <th></th>\n",
       "      <th>Training Epochs</th>\n",
       "      <th>TabLeak Acc.</th>\n",
       "      <th>TabLeak Std.</th>\n",
       "      <th>Inverting Gradients Acc.</th>\n",
       "      <th>Inverting Gradients Std.</th>\n",
       "    </tr>\n",
       "  </thead>\n",
       "  <tbody>\n",
       "    <tr>\n",
       "      <th>0</th>\n",
       "      <td>1</td>\n",
       "      <td>85.7</td>\n",
       "      <td>4.2</td>\n",
       "      <td>71.4</td>\n",
       "      <td>2.2</td>\n",
       "    </tr>\n",
       "    <tr>\n",
       "      <th>1</th>\n",
       "      <td>5</td>\n",
       "      <td>78.0</td>\n",
       "      <td>4.6</td>\n",
       "      <td>70.1</td>\n",
       "      <td>3.4</td>\n",
       "    </tr>\n",
       "    <tr>\n",
       "      <th>2</th>\n",
       "      <td>10</td>\n",
       "      <td>74.9</td>\n",
       "      <td>2.7</td>\n",
       "      <td>68.3</td>\n",
       "      <td>3.5</td>\n",
       "    </tr>\n",
       "    <tr>\n",
       "      <th>3</th>\n",
       "      <td>15</td>\n",
       "      <td>74.9</td>\n",
       "      <td>3.1</td>\n",
       "      <td>66.7</td>\n",
       "      <td>3.9</td>\n",
       "    </tr>\n",
       "  </tbody>\n",
       "</table>\n",
       "</div>"
      ],
      "text/plain": [
       "   Training Epochs  TabLeak Acc.  TabLeak Std.  Inverting Gradients Acc.  \\\n",
       "0                1          85.7           4.2                      71.4   \n",
       "1                5          78.0           4.6                      70.1   \n",
       "2               10          74.9           2.7                      68.3   \n",
       "3               15          74.9           3.1                      66.7   \n",
       "\n",
       "   Inverting Gradients Std.  \n",
       "0                       2.2  \n",
       "1                       3.4  \n",
       "2                       3.5  \n",
       "3                       3.9  "
      ]
     },
     "execution_count": 6,
     "metadata": {},
     "output_type": "execute_result"
    }
   ],
   "source": [
    "dataframes['Lawschool']"
   ]
  },
  {
   "cell_type": "markdown",
   "id": "40e9f2b8-52c2-451c-9722-21e597269735",
   "metadata": {},
   "source": [
    "## Health Heritage"
   ]
  },
  {
   "cell_type": "code",
   "execution_count": 7,
   "id": "11694e15-ff6b-4484-9fed-56ec5c746bbd",
   "metadata": {
    "tags": []
   },
   "outputs": [
    {
     "data": {
      "text/html": [
       "<div>\n",
       "<style scoped>\n",
       "    .dataframe tbody tr th:only-of-type {\n",
       "        vertical-align: middle;\n",
       "    }\n",
       "\n",
       "    .dataframe tbody tr th {\n",
       "        vertical-align: top;\n",
       "    }\n",
       "\n",
       "    .dataframe thead th {\n",
       "        text-align: right;\n",
       "    }\n",
       "</style>\n",
       "<table border=\"1\" class=\"dataframe\">\n",
       "  <thead>\n",
       "    <tr style=\"text-align: right;\">\n",
       "      <th></th>\n",
       "      <th>Training Epochs</th>\n",
       "      <th>TabLeak Acc.</th>\n",
       "      <th>TabLeak Std.</th>\n",
       "      <th>Inverting Gradients Acc.</th>\n",
       "      <th>Inverting Gradients Std.</th>\n",
       "    </tr>\n",
       "  </thead>\n",
       "  <tbody>\n",
       "    <tr>\n",
       "      <th>0</th>\n",
       "      <td>1</td>\n",
       "      <td>69.5</td>\n",
       "      <td>4.5</td>\n",
       "      <td>58.0</td>\n",
       "      <td>4.2</td>\n",
       "    </tr>\n",
       "    <tr>\n",
       "      <th>1</th>\n",
       "      <td>5</td>\n",
       "      <td>69.3</td>\n",
       "      <td>5.3</td>\n",
       "      <td>54.8</td>\n",
       "      <td>4.5</td>\n",
       "    </tr>\n",
       "    <tr>\n",
       "      <th>2</th>\n",
       "      <td>10</td>\n",
       "      <td>64.8</td>\n",
       "      <td>6.0</td>\n",
       "      <td>52.1</td>\n",
       "      <td>3.1</td>\n",
       "    </tr>\n",
       "    <tr>\n",
       "      <th>3</th>\n",
       "      <td>15</td>\n",
       "      <td>62.3</td>\n",
       "      <td>6.9</td>\n",
       "      <td>50.7</td>\n",
       "      <td>3.3</td>\n",
       "    </tr>\n",
       "  </tbody>\n",
       "</table>\n",
       "</div>"
      ],
      "text/plain": [
       "   Training Epochs  TabLeak Acc.  TabLeak Std.  Inverting Gradients Acc.  \\\n",
       "0                1          69.5           4.5                      58.0   \n",
       "1                5          69.3           5.3                      54.8   \n",
       "2               10          64.8           6.0                      52.1   \n",
       "3               15          62.3           6.9                      50.7   \n",
       "\n",
       "   Inverting Gradients Std.  \n",
       "0                       4.2  \n",
       "1                       4.5  \n",
       "2                       3.1  \n",
       "3                       3.3  "
      ]
     },
     "execution_count": 7,
     "metadata": {},
     "output_type": "execute_result"
    }
   ],
   "source": [
    "dataframes['HealthHeritage']"
   ]
  },
  {
   "cell_type": "code",
   "execution_count": null,
   "id": "8ddad86b-b705-431f-a58c-0d073fb8d678",
   "metadata": {},
   "outputs": [],
   "source": []
  }
 ],
 "metadata": {
  "kernelspec": {
   "display_name": "Python 3 (ipykernel)",
   "language": "python",
   "name": "python3"
  },
  "language_info": {
   "codemirror_mode": {
    "name": "ipython",
    "version": 3
   },
   "file_extension": ".py",
   "mimetype": "text/x-python",
   "name": "python",
   "nbconvert_exporter": "python",
   "pygments_lexer": "ipython3",
   "version": "3.8.17"
  }
 },
 "nbformat": 4,
 "nbformat_minor": 5
}
